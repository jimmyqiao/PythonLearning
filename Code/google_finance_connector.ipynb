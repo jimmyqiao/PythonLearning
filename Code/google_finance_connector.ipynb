{
 "cells": [
  {
   "cell_type": "code",
   "execution_count": 76,
   "metadata": {},
   "outputs": [
    {
     "name": "stdout",
     "output_type": "stream",
     "text": [
      "<class 'pandas.core.frame.DataFrame'>\n"
     ]
    }
   ],
   "source": [
    "from googlefinance.client import get_price_data, get_prices_data, get_prices_time_data\n",
    "import pandas as pd\n",
    "\n",
    "def cal_daily_return(start,end):\n",
    "    return (end-start) / start * 100\n",
    "    \n",
    "param = {\n",
    "    'q': \"A2M\", # Stock symbol (ex: \"AAPL\")\n",
    "    'i': \"86400\", # Interval size in seconds (\"86400\" = 1 day intervals)\n",
    "    'x': \"ASX\", # Stock exchange symbol on which stock is traded (ex: \"NASD\")\n",
    "    'p': \"1Y\" # Period (Ex: \"1Y\" = 1 year)\n",
    "}\n",
    "\n",
    "# get price data (return pandas dataframe)\n",
    "df = get_price_data(param)\n",
    "\n",
    "daily_return = df[['Open','Close']].apply(lambda x: cal_daily_return(x['Open'],x['Close']), axis=1)\n",
    "#print type(daily_return)\n",
    "\n",
    "returns = pd.concat([df[['Open','Close']], daily_return], axis=1)\n",
    "returns = returns.rename(columns ={0:'return'} )\n"
   ]
  },
  {
   "cell_type": "code",
   "execution_count": null,
   "metadata": {},
   "outputs": [],
   "source": [
    "params = [\n",
    "    # Dow Jones\n",
    "    {\n",
    "        'q': \".DJI\",\n",
    "        'x': \"INDEXDJX\",\n",
    "    },\n",
    "    # NYSE COMPOSITE (DJ)\n",
    "    {\n",
    "        'q': \"NYA\",\n",
    "        'x': \"INDEXNYSEGIS\",\n",
    "    },\n",
    "    # S&P 500\n",
    "    {\n",
    "        'q': \".INX\",\n",
    "        'x': \"INDEXSP\",\n",
    "    }\n",
    "]\n",
    "period = \"1Y\"\n",
    "# get open, high, low, close, volume data (return pandas dataframe)\n",
    "df = get_prices_data(params, period)\n",
    "print(df)\n",
    "#            .DJI_Open  .DJI_High  .DJI_Low  .DJI_Close  .DJI_Volume  \\\n",
    "# 2016-07-20   18503.12   18562.53  18495.11    18559.01    85840786\n",
    "# 2016-07-21   18582.70   18622.01  18555.65    18595.03    93233337\n",
    "# 2016-07-22   18589.96   18590.44  18469.67    18517.23    86803016\n",
    "# 2016-07-23   18524.15   18571.30  18491.59    18570.85    87706622\n",
    "# 2016-07-26   18554.49   18555.69  18452.62    18493.06    76807470\n",
    "# ...               ...        ...       ...         ...         ...\n",
    "\n",
    "params = [\n",
    "    # Dow Jones\n",
    "    {\n",
    "        'q': \".DJI\",\n",
    "        'x': \"INDEXDJX\",\n",
    "    },\n",
    "    # NYSE COMPOSITE (DJ)\n",
    "    {\n",
    "        'q': \"NYA\",\n",
    "        'x': \"INDEXNYSEGIS\",\n",
    "    },\n",
    "    # S&P 500\n",
    "    {\n",
    "        'q': \".INX\",\n",
    "        'x': \"INDEXSP\",\n",
    "    }\n",
    "]\n",
    "period = \"1Y\"\n",
    "interval = 60*30 # 30 minutes\n",
    "# get open, high, low, close, volume time data (return pandas dataframe)\n",
    "df = get_prices_time_data(params, period, interval)\n",
    "print(df)"
   ]
  }
 ],
 "metadata": {
  "kernelspec": {
   "display_name": "Python 2",
   "language": "python",
   "name": "python2"
  },
  "language_info": {
   "codemirror_mode": {
    "name": "ipython",
    "version": 2
   },
   "file_extension": ".py",
   "mimetype": "text/x-python",
   "name": "python",
   "nbconvert_exporter": "python",
   "pygments_lexer": "ipython2",
   "version": "2.7.12"
  }
 },
 "nbformat": 4,
 "nbformat_minor": 2
}
